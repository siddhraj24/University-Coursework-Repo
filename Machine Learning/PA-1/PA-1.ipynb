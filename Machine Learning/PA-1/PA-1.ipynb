{
 "cells": [
  {
   "attachments": {},
   "cell_type": "markdown",
   "id": "c8a32e28",
   "metadata": {},
   "source": [
    "<h1>CSE-6363 Machine Learning, Fall 2022<br>Programming Assignment 1<h1>\n"
   ]
  },
  {
   "cell_type": "code",
   "execution_count": 1,
   "id": "f7482c9b",
   "metadata": {},
   "outputs": [],
   "source": [
    "#importing libraries\n",
    "from random import seed\n",
    "from random import randrange\n",
    "from math import sqrt\n",
    "from math import exp\n",
    "from math import pi\n",
    "import numpy as np\n",
    "import pandas as pd\n",
    "\n",
    "from csv import reader"
   ]
  },
  {
   "cell_type": "code",
   "execution_count": 2,
   "id": "d2ab0041",
   "metadata": {},
   "outputs": [],
   "source": [
    "# Accuracy between predicted and actual values\n",
    "\n",
    "def accuracy(act, predicted):\n",
    "    correct = 0\n",
    "    temp = []\n",
    "    for j in range(len(act)):\n",
    "        if act[j] == predicted[j]:\n",
    "            correct += 1\n",
    "        temp.append((act[j]-predicted[j]) ^ 2)\n",
    "    acc = correct / float(len(act)) * 100.0\n",
    "    return [acc, sum(temp)]"
   ]
  },
  {
   "cell_type": "code",
   "execution_count": 3,
   "id": "fcedb49b",
   "metadata": {},
   "outputs": [],
   "source": [
    "# Calculate the mean of numbers\n",
    "\n",
    "\n",
    "def mean(numbers):\n",
    "    return sum(numbers)/float(len(numbers))"
   ]
  },
  {
   "cell_type": "code",
   "execution_count": 4,
   "id": "bfd7ef43",
   "metadata": {},
   "outputs": [],
   "source": [
    "# Calculate the standard deviation of numbers\n",
    "\n",
    "\n",
    "def stdev(numbers):\n",
    "    avg = mean(numbers)\n",
    "    variance = sum([(x-avg)**2 for x in numbers]) / float(len(numbers)-1)\n",
    "    return sqrt(variance)"
   ]
  },
  {
   "cell_type": "code",
   "execution_count": 5,
   "id": "78c0eba9",
   "metadata": {},
   "outputs": [],
   "source": [
    "# Calculating the mean, standard dev and count for every column in a dataset\n",
    "\n",
    "\n",
    "def dataset_summarization(dataset):\n",
    "    summary = [(mean(col), stdev(col), len(col)) for col in zip(*dataset)]\n",
    "    del(summary[-1])\n",
    "    return summary"
   ]
  },
  {
   "cell_type": "code",
   "execution_count": 6,
   "id": "e4db51db",
   "metadata": {},
   "outputs": [],
   "source": [
    "# Separating the class values \n",
    "\n",
    "\n",
    "def sep_class(dataset):\n",
    "    sep = dict()\n",
    "    for i in range(len(dataset)):\n",
    "        class_attr = dataset[i]\n",
    "        class_val = class_attr[-1]\n",
    "        if (class_val not in sep):\n",
    "            sep[class_val] = list()\n",
    "        sep[class_val].append(class_attr)\n",
    "\n",
    "    return sep"
   ]
  },
  {
   "cell_type": "code",
   "execution_count": 7,
   "id": "a11d95f4",
   "metadata": {},
   "outputs": [],
   "source": [
    "# Separating the dataset by class and finding statistical values for each row\n",
    "\n",
    "\n",
    "def summarize_by_class(dataset):\n",
    "    sep = sep_class(dataset)\n",
    "    summaries = dict()\n",
    "    for class_val, row in sep.items():\n",
    "        summaries[class_val] = dataset_summarization(row)\n",
    "    return summaries"
   ]
  },
  {
   "cell_type": "code",
   "execution_count": 8,
   "id": "797526fd",
   "metadata": {},
   "outputs": [],
   "source": [
    "# Gaussian probability distribution function for Calculating x\n",
    "\n",
    "\n",
    "def gaussian_pdf(x, mean, stdev):\n",
    "    if stdev == 0:\n",
    "        exponent = exp(-(x-mean)**2)\n",
    "        return (1 / (sqrt(2 * pi))) * exponent\n",
    "    else:\n",
    "        exponent = exp(-(x-mean)**2 / (2.0 * stdev**2))\n",
    "    return (1 / (sqrt(2 * pi) * stdev)) * exponent"
   ]
  },
  {
   "cell_type": "code",
   "execution_count": 9,
   "id": "3a25501c",
   "metadata": {},
   "outputs": [],
   "source": [
    "# Calculating the probabilities for predicting each class for a given row\n",
    "\n",
    "\n",
    "def class_prob(summaries, row):\n",
    "    tot_rows = sum([summaries[l][0][2] for l in summaries])\n",
    "    prob = dict()\n",
    "    for class_val, class_summ in summaries.items():\n",
    "        prob[class_val] = summaries[class_val][0][2] / float(tot_rows)\n",
    "        for i in range(len(class_summ)):\n",
    "            mean, stdev, _ = class_summ[i]\n",
    "            prob[class_val] *= gaussian_pdf(row[i], mean, stdev)\n",
    "\n",
    "    return prob"
   ]
  },
  {
   "cell_type": "code",
   "execution_count": 10,
   "id": "a756c592",
   "metadata": {},
   "outputs": [],
   "source": [
    "# predicting  the class value for a given dataset\n",
    "\n",
    "\n",
    "def predict_class(summaries, row):\n",
    "    prob = class_prob(summaries, row)\n",
    "    best_label, best_prob = None, -1\n",
    "    for class_val, prob in prob.items():\n",
    "        if best_prob < prob or best_label is None:\n",
    "            best_prob = prob\n",
    "            best_label = class_val\n",
    "    return best_label"
   ]
  },
  {
   "cell_type": "code",
   "execution_count": 11,
   "id": "9405446b",
   "metadata": {},
   "outputs": [],
   "source": [
    "# K-fold validation, seperating dataset into k folds\n",
    "\n",
    "\n",
    "def sep_into_kfold(dataset, no_fold):\n",
    "    dataset_copy = list(dataset)\n",
    "    dataset_sep = list()\n",
    "    size = int(len(dataset) / no_fold)\n",
    "    for k in range(n_foldataset):\n",
    "        fold = list()\n",
    "        while len(fold) < size:\n",
    "            index = randrange(len(dataset_copy))\n",
    "            fold.append(dataset_copy.pop(index))\n",
    "        dataset_sep.append(fold)\n",
    "    return dataset_sep"
   ]
  },
  {
   "cell_type": "code",
   "execution_count": 12,
   "id": "a4276881",
   "metadata": {},
   "outputs": [],
   "source": [
    "# Naive Bayes Algorithm\n",
    "\n",
    "\n",
    "def naive_bayes(train, test):\n",
    "    summarize = summarize_by_class(train)\n",
    "    predictions = list()\n",
    "    for row in test:\n",
    "        output = predict_class(summarize, row)\n",
    "        predictions.append(output)\n",
    "    return(predictions)"
   ]
  },
  {
   "cell_type": "code",
   "execution_count": 13,
   "id": "c554f7b3",
   "metadata": {},
   "outputs": [],
   "source": [
    "# Applying cross validation\n",
    "\n",
    "\n",
    "def cross_val(dataset, algorithm, no_fold, *args):\n",
    "    scores = list()\n",
    "    diff = []\n",
    "    Foldataset = sep_into_kfold(dataset, no_fold)\n",
    "    for f in Foldataset:\n",
    "        train_set = list(Foldataset)\n",
    "        train_set.remove(f)\n",
    "        train_set = sum(train_set, [])\n",
    "        test_set = list()\n",
    "        for r in f:\n",
    "            r_copy = list(r)\n",
    "            test_set.append(r_copy)\n",
    "            r_copy[-1] = None\n",
    "        pred = algorithm(train_set, test_set, *args)\n",
    "        act = [r[-1] for r in f]\n",
    "        acc, k = accuracy(act, pred)\n",
    "        diff.append(k)\n",
    "        scores.append(acc)\n",
    "\n",
    "    mse = 1/len(dataset) * sum(diff)\n",
    "    return [scores, mse-1]"
   ]
  },
  {
   "cell_type": "code",
   "execution_count": 14,
   "id": "717567c1",
   "metadata": {},
   "outputs": [],
   "source": [
    "# Data conversion from categorical to numeric\n",
    "\n",
    "\n",
    "def str_to_int(dataset, col):\n",
    "    column = [row[col] for row in dataset]\n",
    "    unique_val = set(column)\n",
    "    update_col = dict()\n",
    "    for i, value in enumerate(unique_val):\n",
    "        update_col[value] = i + 1\n",
    "    for row in dataset:\n",
    "        row[col] = update_col[row[col]]\n",
    "    print(\"\\t\", update_col)"
   ]
  },
  {
   "cell_type": "code",
   "execution_count": 15,
   "id": "5d6cd43f",
   "metadata": {},
   "outputs": [],
   "source": [
    "# Convert string column to int\n",
    "\n",
    "\n",
    "def str_column_to_int(dataset, column):\n",
    "    for row in dataset:\n",
    "        row[column] = int(row[column].strip())"
   ]
  },
  {
   "cell_type": "code",
   "execution_count": 16,
   "id": "7b5fa057",
   "metadata": {},
   "outputs": [],
   "source": [
    "# Displaying dataset information\n",
    "\n",
    "\n",
    "def dataset_info(dataset):\n",
    "    print(\"\\nColumn\\t\\tColumn Type\")\n",
    "    for col in range(len(dataset[0])):\n",
    "        print(\"\\ncolumn\", col+1, end=\"\\t\")\n",
    "        if dataset[0][col].isdigit():\n",
    "            print(\"Numeric\", end=\"\\t\")\n",
    "        else:\n",
    "            if isinstance(dataset[0][col], str):\n",
    "                column = [row[col] for row in dataset]\n",
    "                unique_val = set(column)\n",
    "                if len(unique_val) <= 5:\n",
    "                    print(\"Categorical\", end=\"\\t\")\n",
    "                else:\n",
    "                    print(\"Object\", end=\"\\t\")\n",
    "    print(\"\\n No. of instances: \", len(dataset))"
   ]
  },
  {
   "cell_type": "code",
   "execution_count": 17,
   "id": "dd253289",
   "metadata": {},
   "outputs": [],
   "source": [
    "# Loading CSV file\n",
    "\n",
    "\n",
    "def load_csv(file):\n",
    "    dataset = list()\n",
    "    with open(file, 'r') as f:\n",
    "        csv_reader = reader(f)\n",
    "        for row in csv_reader:\n",
    "            if not row:\n",
    "                continue\n",
    "            dataset.append(row)\n",
    "    return dataset\n"
   ]
  },
  {
   "cell_type": "markdown",
   "id": "9c613335",
   "metadata": {},
   "source": [
    "<h4>1)Applying Naive Bayes algorithm on Hayes Roth Dataset</h4>"
   ]
  },
  {
   "cell_type": "code",
   "execution_count": 18,
   "id": "4008c194",
   "metadata": {},
   "outputs": [
    {
     "name": "stdout",
     "output_type": "stream",
     "text": [
      "\n",
      "\n",
      "Dataset Name:  C:/Users/siddh/Desktop/Assignment 1/hayes-roth.csv\n"
     ]
    }
   ],
   "source": [
    "seed(1)\n",
    "fileList = ['C:/Users/siddh/Desktop/Assignment 1/hayes-roth.csv']\n",
    "for file in fileList:\n",
    "    dataset = load_csv(file)\n",
    "    print(\"\\n\\nDataset Name: \", file)"
   ]
  },
  {
   "cell_type": "code",
   "execution_count": 19,
   "id": "60fc4ecf",
   "metadata": {},
   "outputs": [
    {
     "name": "stdout",
     "output_type": "stream",
     "text": [
      "Dataset shape: 132 x 6\n"
     ]
    }
   ],
   "source": [
    "# Displaying shape of the dataset\n",
    "print(\"Dataset shape: \"+str(len(dataset))+\" x \"+str(len(dataset[0])))"
   ]
  },
  {
   "cell_type": "code",
   "execution_count": 20,
   "id": "ffc0155a",
   "metadata": {},
   "outputs": [
    {
     "name": "stdout",
     "output_type": "stream",
     "text": [
      "Dataset Information:-\n",
      "\n",
      "Column\t\tColumn Type\n",
      "\n",
      "column 1\tNumeric\t\n",
      "column 2\tNumeric\t\n",
      "column 3\tNumeric\t\n",
      "column 4\tNumeric\t\n",
      "column 5\tNumeric\t\n",
      "column 6\tNumeric\t\n",
      " No. of instances:  132\n"
     ]
    }
   ],
   "source": [
    "# Displaying dataset information\n",
    "for file in fileList:\n",
    "    dataset = load_csv(file)\n",
    "    print(\"Dataset Information:-\")\n",
    "    dataset_info(dataset)\n",
    "for file in fileList:\n",
    "    dataset = load_csv(file)"
   ]
  },
  {
   "cell_type": "code",
   "execution_count": 21,
   "id": "3f64e199",
   "metadata": {},
   "outputs": [
    {
     "name": "stdout",
     "output_type": "stream",
     "text": [
      "\n",
      "Converting String columns to integers:- \n",
      "\t {'110': 1, '92': 2, '128': 3, '22': 4, '71': 5, '41': 6, '118': 7, '124': 8, '126': 9, '127': 10, '30': 11, '89': 12, '130': 13, '97': 14, '87': 15, '70': 16, '10': 17, '52': 18, '109': 19, '112': 20, '59': 21, '85': 22, '49': 23, '90': 24, '101': 25, '31': 26, '44': 27, '12': 28, '114': 29, '15': 30, '48': 31, '32': 32, '91': 33, '26': 34, '76': 35, '39': 36, '1': 37, '129': 38, '67': 39, '11': 40, '47': 41, '63': 42, '13': 43, '25': 44, '132': 45, '19': 46, '64': 47, '45': 48, '23': 49, '121': 50, '53': 51, '111': 52, '4': 53, '95': 54, '102': 55, '43': 56, '117': 57, '7': 58, '29': 59, '105': 60, '122': 61, '60': 62, '103': 63, '99': 64, '84': 65, '14': 66, '28': 67, '131': 68, '61': 69, '93': 70, '108': 71, '106': 72, '27': 73, '46': 74, '65': 75, '56': 76, '79': 77, '72': 78, '88': 79, '55': 80, '33': 81, '78': 82, '119': 83, '42': 84, '98': 85, '40': 86, '58': 87, '21': 88, '8': 89, '50': 90, '68': 91, '86': 92, '18': 93, '74': 94, '20': 95, '62': 96, '94': 97, '80': 98, '107': 99, '38': 100, '37': 101, '125': 102, '100': 103, '123': 104, '16': 105, '36': 106, '82': 107, '81': 108, '34': 109, '66': 110, '83': 111, '3': 112, '24': 113, '57': 114, '69': 115, '113': 116, '116': 117, '54': 118, '104': 119, '5': 120, '77': 121, '120': 122, '17': 123, '51': 124, '115': 125, '35': 126, '73': 127, '6': 128, '75': 129, '2': 130, '9': 131, '96': 132}\n",
      "\t {'3': 1, '1': 2, '2': 3}\n",
      "\t {'3': 1, '1': 2, '2': 3, '4': 4}\n",
      "\t {'3': 1, '1': 2, '2': 3, '4': 4}\n",
      "\t {'3': 1, '1': 2, '2': 3, '4': 4}\n",
      "\t {'3': 1, '1': 2, '2': 3}\n"
     ]
    }
   ],
   "source": [
    "# converting String columns to integers\n",
    "print(\"\\nConverting String columns to integers:- \")\n",
    "for col in range(0, len(dataset[0])):\n",
    "    if file == 'hayes-roth.csv':\n",
    "        str_column_to_int(dataset, col)\n",
    "    else:\n",
    "        str_to_int(dataset, col)"
   ]
  },
  {
   "cell_type": "code",
   "execution_count": 22,
   "id": "0470e315",
   "metadata": {},
   "outputs": [
    {
     "name": "stdout",
     "output_type": "stream",
     "text": [
      "\n",
      "Scores:- \n",
      "[76.92307692307693, 69.23076923076923, 76.92307692307693, 46.15384615384615, 69.23076923076923, 69.23076923076923, 69.23076923076923, 61.53846153846154, 61.53846153846154, 61.53846153846154]\n",
      "Mean Accuracy : 66.154%\n",
      "Mean squared error : 0.07575757575757569\n",
      "std_dev : 8.565791327430805\n"
     ]
    }
   ],
   "source": [
    "# evaluating algorithm by seperating the dataset into 10-folds\n",
    "n_foldataset = 10\n",
    "scores, mse = cross_val(dataset, naive_bayes, n_foldataset)\n",
    "print('\\nScores:- \\n%s' % scores)\n",
    "print('Mean Accuracy : %.3f%%' % (sum(scores)/float(len(scores))))\n",
    "print(\"Mean squared error :\", mse)\n",
    "\n",
    "\n",
    "def get_std_dev(scores):\n",
    "    n = len(scores)\n",
    "    mean = sum(scores) / n\n",
    "    var = sum((x - (sum(scores)/float(len(scores))))**2 for x in scores) / n\n",
    "    std_dev = var ** 0.5\n",
    "    return std_dev\n",
    "\n",
    "\n",
    "print(\"std_dev :\", get_std_dev(scores))"
   ]
  },
  {
   "cell_type": "markdown",
   "id": "543aa48a",
   "metadata": {},
   "source": [
    "<h4>2)Applying Naive Bayes algorithm on Car Dataset</h4>"
   ]
  },
  {
   "cell_type": "code",
   "execution_count": 23,
   "id": "c0e029ab",
   "metadata": {},
   "outputs": [
    {
     "name": "stdout",
     "output_type": "stream",
     "text": [
      "\n",
      "\n",
      "Dataset Name:  C:/Users/siddh/Desktop/Assignment 1/car.csv\n"
     ]
    }
   ],
   "source": [
    "seed(1)\n",
    "fileList = ['C:/Users/siddh/Desktop/Assignment 1/car.csv']\n",
    "for file in fileList:\n",
    "    dataset = load_csv(file)\n",
    "    print(\"\\n\\nDataset Name: \", file)"
   ]
  },
  {
   "cell_type": "code",
   "execution_count": 24,
   "id": "17d88d30",
   "metadata": {},
   "outputs": [
    {
     "name": "stdout",
     "output_type": "stream",
     "text": [
      "Dataset shape: 1728 x 7\n"
     ]
    }
   ],
   "source": [
    "# Displaying shape of the dataset\n",
    "print(\"Dataset shape: \"+str(len(dataset))+\" x \"+str(len(dataset[0])))"
   ]
  },
  {
   "cell_type": "code",
   "execution_count": 25,
   "id": "88e1a853",
   "metadata": {},
   "outputs": [
    {
     "name": "stdout",
     "output_type": "stream",
     "text": [
      "Dataset Information:-\n",
      "\n",
      "Column\t\tColumn Type\n",
      "\n",
      "column 1\tCategorical\t\n",
      "column 2\tCategorical\t\n",
      "column 3\tNumeric\t\n",
      "column 4\tNumeric\t\n",
      "column 5\tCategorical\t\n",
      "column 6\tCategorical\t\n",
      "column 7\tCategorical\t\n",
      " No. of instances:  1728\n"
     ]
    }
   ],
   "source": [
    "# Displaying dataset information\n",
    "for file in fileList:\n",
    "    dataset = load_csv(file)\n",
    "    print(\"Dataset Information:-\")\n",
    "    dataset_info(dataset)\n",
    "for file in fileList:\n",
    "    dataset = load_csv(file)"
   ]
  },
  {
   "cell_type": "code",
   "execution_count": 26,
   "id": "c849a5f2",
   "metadata": {},
   "outputs": [
    {
     "name": "stdout",
     "output_type": "stream",
     "text": [
      "\n",
      "Converting String columns to integers:- \n",
      "\t {'vhigh': 1, 'low': 2, 'med': 3, 'high': 4}\n",
      "\t {'vhigh': 1, 'low': 2, 'med': 3, 'high': 4}\n",
      "\t {'3': 1, '5more': 2, '2': 3, '4': 4}\n",
      "\t {'more': 1, '2': 2, '4': 3}\n",
      "\t {'small': 1, 'med': 2, 'big': 3}\n",
      "\t {'high': 1, 'med': 2, 'low': 3}\n",
      "\t {'unacc': 1, 'good': 2, 'acc': 3, 'vgood': 4}\n"
     ]
    }
   ],
   "source": [
    "# converting String columns to integers\n",
    "print(\"\\nConverting String columns to integers:- \")\n",
    "for col in range(0, len(dataset[0])):\n",
    "    if file == 'car.csv':\n",
    "        str_column_to_int(dataset, col)\n",
    "    else:\n",
    "        str_to_int(dataset, col)"
   ]
  },
  {
   "cell_type": "code",
   "execution_count": 27,
   "id": "fc886c41",
   "metadata": {},
   "outputs": [
    {
     "name": "stdout",
     "output_type": "stream",
     "text": [
      "\n",
      "Scores:- \n",
      "[74.4186046511628, 73.83720930232558, 75.5813953488372, 65.11627906976744, 75.0, 79.65116279069767, 75.5813953488372, 69.76744186046511, 72.67441860465115, 75.0]\n",
      "Mean Accuracy : 73.663%\n",
      "Mean squared error : 0.427662037037037\n",
      "std_dev : 3.6958639710029795\n"
     ]
    }
   ],
   "source": [
    "# evaluating algorithm by seperating the dataset into 10-folds\n",
    "n_foldataset = 10\n",
    "scores, mse = cross_val(dataset, naive_bayes, n_foldataset)\n",
    "print('\\nScores:- \\n%s' % scores)\n",
    "print('Mean Accuracy : %.3f%%' % (sum(scores)/float(len(scores))))\n",
    "print(\"Mean squared error :\", mse)\n",
    "\n",
    "\n",
    "def get_std_dev(scores):\n",
    "    n = len(scores)\n",
    "    mean = sum(scores) / n\n",
    "    var = sum((x - (sum(scores)/float(len(scores))))**2 for x in scores) / n\n",
    "    std_dev = var ** 0.5\n",
    "    return std_dev\n",
    "\n",
    "\n",
    "print(\"std_dev :\", get_std_dev(scores))"
   ]
  },
  {
   "cell_type": "markdown",
   "id": "e1973b6d",
   "metadata": {},
   "source": [
    "<h4>3)Applying Naive Bayes algorithm on Breast-Cancer Dataset</h4>"
   ]
  },
  {
   "cell_type": "code",
   "execution_count": 28,
   "id": "beb50122",
   "metadata": {},
   "outputs": [
    {
     "name": "stdout",
     "output_type": "stream",
     "text": [
      "\n",
      "\n",
      "Dataset Name:  C:/Users/siddh/Desktop/Assignment 1/breast-cancer.csv\n"
     ]
    }
   ],
   "source": [
    "seed(1)\n",
    "fileList = ['C:/Users/siddh/Desktop/Assignment 1/breast-cancer.csv']\n",
    "for file in fileList:\n",
    "    dataset = load_csv(file)\n",
    "    print(\"\\n\\nDataset Name: \", file)"
   ]
  },
  {
   "cell_type": "code",
   "execution_count": 29,
   "id": "63774630",
   "metadata": {},
   "outputs": [
    {
     "name": "stdout",
     "output_type": "stream",
     "text": [
      "Dataset shape: 286 x 10\n"
     ]
    }
   ],
   "source": [
    "# Displaying shape of the dataset\n",
    "print(\"Dataset shape: \"+str(len(dataset))+\" x \"+str(len(dataset[0])))"
   ]
  },
  {
   "cell_type": "code",
   "execution_count": 30,
   "id": "768ad390",
   "metadata": {},
   "outputs": [
    {
     "name": "stdout",
     "output_type": "stream",
     "text": [
      "Dataset Information:-\n",
      "\n",
      "Column\t\tColumn Type\n",
      "\n",
      "column 1\tCategorical\t\n",
      "column 2\tObject\t\n",
      "column 3\tCategorical\t\n",
      "column 4\tObject\t\n",
      "column 5\tObject\t\n",
      "column 6\tCategorical\t\n",
      "column 7\tNumeric\t\n",
      "column 8\tCategorical\t\n",
      "column 9\tObject\t\n",
      "column 10\tCategorical\t\n",
      " No. of instances:  286\n"
     ]
    }
   ],
   "source": [
    "# Displaying dataset information\n",
    "for file in fileList:\n",
    "    dataset = load_csv(file)\n",
    "    print(\"Dataset Information:-\")\n",
    "    dataset_info(dataset)\n",
    "for file in fileList:\n",
    "    dataset = load_csv(file)"
   ]
  },
  {
   "cell_type": "code",
   "execution_count": 31,
   "id": "89604744",
   "metadata": {},
   "outputs": [
    {
     "name": "stdout",
     "output_type": "stream",
     "text": [
      "\n",
      "Converting String columns to integers:- \n",
      "\t {'recurrence-events': 1, 'no-recurrence-events': 2}\n",
      "\t {'20-29': 1, '70-79': 2, '40-49': 3, '50-59': 4, '60-69': 5, '30-39': 6}\n",
      "\t {'premeno': 1, 'lt40': 2, 'ge40': 3}\n",
      "\t {'15-19': 1, '50-54': 2, '5-9': 3, '20-24': 4, '10-14': 5, '0-4': 6, '30-34': 7, '40-44': 8, '25-29': 9, '35-39': 10, '45-49': 11}\n",
      "\t {'24-26': 1, '12-14': 2, '9-11': 3, '3-5': 4, '0-2': 5, '15-17': 6, '6-8': 7}\n",
      "\t {'no': 1, 'yes': 2, '?': 3}\n",
      "\t {'3': 1, '1': 2, '2': 3}\n",
      "\t {'right': 1, 'left': 2}\n",
      "\t {'central': 1, 'right_up': 2, 'left_low': 3, 'left_up': 4, '?': 5, 'right_low': 6}\n",
      "\t {'no': 1, 'yes': 2}\n"
     ]
    }
   ],
   "source": [
    "# converting String columns to integers\n",
    "print(\"\\nConverting String columns to integers:- \")\n",
    "for col in range(0, len(dataset[0])):\n",
    "    if file == 'breast-cancer.csv':\n",
    "        str_column_to_int(dataset, col)\n",
    "    else:\n",
    "        str_to_int(dataset, col)"
   ]
  },
  {
   "cell_type": "code",
   "execution_count": 32,
   "id": "9871fa46",
   "metadata": {},
   "outputs": [
    {
     "name": "stdout",
     "output_type": "stream",
     "text": [
      "\n",
      "Scores:- \n",
      "[71.42857142857143, 78.57142857142857, 67.85714285714286, 64.28571428571429, 75.0, 96.42857142857143, 89.28571428571429, 75.0, 85.71428571428571, 78.57142857142857]\n",
      "Mean Accuracy : 78.214%\n",
      "Mean squared error : 0.5629370629370629\n",
      "std_dev : 9.37457482029049\n"
     ]
    }
   ],
   "source": [
    "# evaluating algorithm by seperating the dataset into 10-folds\n",
    "n_foldataset = 10\n",
    "scores, mse = cross_val(dataset, naive_bayes, n_foldataset)\n",
    "print('\\nScores:- \\n%s' % scores)\n",
    "print('Mean Accuracy : %.3f%%' % (sum(scores)/float(len(scores))))\n",
    "print(\"Mean squared error :\", mse)\n",
    "\n",
    "\n",
    "def get_std_dev(scores):\n",
    "    n = len(scores)\n",
    "    mean = sum(scores) / n\n",
    "    var = sum((x - (sum(scores)/float(len(scores))))**2 for x in scores) / n\n",
    "    std_dev = var ** 0.5\n",
    "    return std_dev\n",
    "\n",
    "\n",
    "print(\"std_dev :\", get_std_dev(scores))"
   ]
  }
 ],
 "metadata": {
  "kernelspec": {
   "display_name": "Python 3.9.12 ('base')",
   "language": "python",
   "name": "python3"
  },
  "language_info": {
   "codemirror_mode": {
    "name": "ipython",
    "version": 3
   },
   "file_extension": ".py",
   "mimetype": "text/x-python",
   "name": "python",
   "nbconvert_exporter": "python",
   "pygments_lexer": "ipython3",
   "version": "3.9.12"
  },
  "vscode": {
   "interpreter": {
    "hash": "ad2bdc8ecc057115af97d19610ffacc2b4e99fae6737bb82f5d7fb13d2f2c186"
   }
  }
 },
 "nbformat": 4,
 "nbformat_minor": 5
}
