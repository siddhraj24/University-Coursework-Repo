{
 "cells": [
  {
   "attachments": {},
   "cell_type": "markdown",
   "id": "ab90ad3b",
   "metadata": {},
   "source": [
    "<h1>CSE-6363 Machine Learning, Fall 2022<br>Programming Assignment 2<h1>\n",
    "\n"
   ]
  },
  {
   "cell_type": "code",
   "execution_count": 7,
   "id": "2a9934bb",
   "metadata": {},
   "outputs": [],
   "source": [
    "# importing all the required libraries\n",
    "from datetime import datetime\n",
    "import matplotlib.pyplot as plt\n",
    "import numpy as np\n",
    "from IPython.display import HTML, display\n",
    "import torch\n",
    "import torch.nn as nn\n",
    "import torchvision.datasets as datasets\n",
    "import torch.optim as optim\n",
    "import torchvision.transforms as transforms\n",
    "from torch.utils.data import DataLoader\n",
    "from torchsummaryX import summary as summaryX\n",
    "from torchsummary import summary\n",
    "device = torch.device('cuda' if torch.cuda.is_available() else 'cpu')\n"
   ]
  },
  {
   "cell_type": "code",
   "execution_count": 2,
   "id": "01f6cf8c",
   "metadata": {},
   "outputs": [
    {
     "name": "stdout",
     "output_type": "stream",
     "text": [
      "Pytorch version: 1.12.1+cpu\n",
      "cuda version: None\n"
     ]
    }
   ],
   "source": [
    "# checking requirements\n",
    "print(f'Pytorch version: {torch.__version__}')\n",
    "print(f'cuda version: {torch.version.cuda}')\n"
   ]
  },
  {
   "cell_type": "code",
   "execution_count": 3,
   "id": "184afd5c",
   "metadata": {},
   "outputs": [
    {
     "name": "stdout",
     "output_type": "stream",
     "text": [
      "LeNet(\n",
      "  (convolution1): Conv2d(1, 6, kernel_size=(5, 5), stride=(1, 1))\n",
      "  (convolution2): Conv2d(6, 16, kernel_size=(5, 5), stride=(1, 1))\n",
      "  (convolution3): Conv2d(16, 120, kernel_size=(5, 5), stride=(1, 1))\n",
      "  (linear1): Linear(in_features=120, out_features=84, bias=True)\n",
      "  (linear2): Linear(in_features=84, out_features=10, bias=True)\n",
      "  (tanh): Tanh()\n",
      "  (avgpool): AvgPool2d(kernel_size=2, stride=2, padding=0)\n",
      ")\n",
      "----------------------------------------------------------------\n",
      "        Layer (type)               Output Shape         Param #\n",
      "================================================================\n",
      "            Conv2d-1            [-1, 6, 28, 28]             156\n",
      "              Tanh-2            [-1, 6, 28, 28]               0\n",
      "         AvgPool2d-3            [-1, 6, 14, 14]               0\n",
      "            Conv2d-4           [-1, 16, 10, 10]           2,416\n",
      "              Tanh-5           [-1, 16, 10, 10]               0\n",
      "         AvgPool2d-6             [-1, 16, 5, 5]               0\n",
      "            Conv2d-7            [-1, 120, 1, 1]          48,120\n",
      "              Tanh-8            [-1, 120, 1, 1]               0\n",
      "            Linear-9                   [-1, 84]          10,164\n",
      "             Tanh-10                   [-1, 84]               0\n",
      "           Linear-11                   [-1, 10]             850\n",
      "================================================================\n",
      "Total params: 61,706\n",
      "Trainable params: 61,706\n",
      "Non-trainable params: 0\n",
      "----------------------------------------------------------------\n",
      "Input size (MB): 0.00\n",
      "Forward/backward pass size (MB): 0.11\n",
      "Params size (MB): 0.24\n",
      "Estimated Total Size (MB): 0.35\n",
      "----------------------------------------------------------------\n",
      "output.shape :  torch.Size([64, 10])\n"
     ]
    }
   ],
   "source": [
    "# defining the LeNet-5 architecture\n",
    "class LeNet(nn.Module):\n",
    "    def __init__(self):\n",
    "        super(LeNet, self).__init__()\n",
    "\n",
    "        self.convolution1 = nn.Conv2d(in_channels=1, out_channels=6,\n",
    "                                      kernel_size=5, stride=1)\n",
    "        self.convolution2 = nn.Conv2d(in_channels=6, out_channels=16,\n",
    "                                      kernel_size=5, stride=1)\n",
    "        self.convolution3 = nn.Conv2d(in_channels=16, out_channels=120,\n",
    "                                      kernel_size=5, stride=1)\n",
    "        self.linear1 = nn.Linear(120, 84)\n",
    "        self.linear2 = nn.Linear(84, 10)\n",
    "        self.tanh = nn.Tanh()\n",
    "        self.avgpool = nn.AvgPool2d(kernel_size=2, stride=2)\n",
    "\n",
    "    def forward(self, x):\n",
    "        x = self.convolution1(x)\n",
    "        x = self.tanh(x)\n",
    "        x = self.avgpool(x)\n",
    "        x = self.convolution2(x)\n",
    "        x = self.tanh(x)\n",
    "        x = self.avgpool(x)\n",
    "        x = self.convolution3(x)\n",
    "        x = self.tanh(x)\n",
    "\n",
    "        x = x.reshape(x.shape[0], -1)\n",
    "        x = self.linear1(x)\n",
    "        x = self.tanh(x)\n",
    "        x = self.linear2(x)\n",
    "        return x\n",
    "\n",
    "\n",
    "model = LeNet()\n",
    "x = torch.randn(64,1,32,32)\n",
    "output = model(x)\n",
    "\n",
    "print(model)\n",
    "summary(model, (1,32,32))\n",
    "print(\"output.shape : \",output.shape)\n"
   ]
  },
  {
   "cell_type": "code",
   "execution_count": 4,
   "id": "042cb322",
   "metadata": {},
   "outputs": [
    {
     "name": "stdout",
     "output_type": "stream",
     "text": [
      "{'train': 60000, 'test': 10000}\n"
     ]
    }
   ],
   "source": [
    "learning_rate = 0.001\n",
    "\n",
    "\n",
    "train_dataset = datasets.MNIST(root='mnist_data', train=True,\n",
    "                               transform=transforms.Compose([transforms.Resize((32, 32)), transforms.ToTensor()]), download=True)\n",
    "test_dataset = datasets.MNIST(root='mnist_data', train=False,\n",
    "                              transform=transforms.Compose([transforms.Resize((32, 32)), transforms.ToTensor()]), download=True)\n",
    "\n",
    "train_loader = DataLoader(dataset=train_dataset, batch_size=64, shuffle=True)\n",
    "test_loader = DataLoader(dataset=test_dataset, batch_size=64, shuffle=False)\n",
    "dataset_size = {'train': len(train_dataset), 'test': len(test_dataset)}\n",
    "print(dataset_size)\n"
   ]
  },
  {
   "cell_type": "code",
   "execution_count": 5,
   "id": "d13950d9",
   "metadata": {},
   "outputs": [
    {
     "name": "stdout",
     "output_type": "stream",
     "text": [
      "\n",
      "Epoch 1\n"
     ]
    },
    {
     "data": {
      "text/html": [
       "\n",
       "        <p>Loss: 16899.1504   60000 / 60000</p>\n",
       "        <progress value='60000' max='60000', style='width: 100%'>60000</progress>\n",
       "    "
      ],
      "text/plain": [
       "<IPython.core.display.HTML object>"
      ]
     },
     "metadata": {},
     "output_type": "display_data"
    },
    {
     "name": "stdout",
     "output_type": "stream",
     "text": [
      "Training loss: 0.2816525101661682\n",
      "Validation loss: 0.10849947482347488\n",
      "\n",
      "Epoch 2\n"
     ]
    },
    {
     "data": {
      "text/html": [
       "\n",
       "        <p>Loss: 5613.4888   60000 / 60000</p>\n",
       "        <progress value='60000' max='60000', style='width: 100%'>60000</progress>\n",
       "    "
      ],
      "text/plain": [
       "<IPython.core.display.HTML object>"
      ]
     },
     "metadata": {},
     "output_type": "display_data"
    },
    {
     "name": "stdout",
     "output_type": "stream",
     "text": [
      "Training loss: 0.09355814754962921\n",
      "Validation loss: 0.0781828761100769\n",
      "\n",
      "Epoch 3\n"
     ]
    },
    {
     "data": {
      "text/html": [
       "\n",
       "        <p>Loss: 3845.7566   60000 / 60000</p>\n",
       "        <progress value='60000' max='60000', style='width: 100%'>60000</progress>\n",
       "    "
      ],
      "text/plain": [
       "<IPython.core.display.HTML object>"
      ]
     },
     "metadata": {},
     "output_type": "display_data"
    },
    {
     "name": "stdout",
     "output_type": "stream",
     "text": [
      "Training loss: 0.06409594416618347\n",
      "Validation loss: 0.05717148259282112\n",
      "\n",
      "Epoch 4\n"
     ]
    },
    {
     "data": {
      "text/html": [
       "\n",
       "        <p>Loss: 2781.6465   60000 / 60000</p>\n",
       "        <progress value='60000' max='60000', style='width: 100%'>60000</progress>\n",
       "    "
      ],
      "text/plain": [
       "<IPython.core.display.HTML object>"
      ]
     },
     "metadata": {},
     "output_type": "display_data"
    },
    {
     "name": "stdout",
     "output_type": "stream",
     "text": [
      "Training loss: 0.04636077582836151\n",
      "Validation loss: 0.055973779410123825\n",
      "\n",
      "Epoch 5\n"
     ]
    },
    {
     "data": {
      "text/html": [
       "\n",
       "        <p>Loss: 2287.4434   60000 / 60000</p>\n",
       "        <progress value='60000' max='60000', style='width: 100%'>60000</progress>\n",
       "    "
      ],
      "text/plain": [
       "<IPython.core.display.HTML object>"
      ]
     },
     "metadata": {},
     "output_type": "display_data"
    },
    {
     "name": "stdout",
     "output_type": "stream",
     "text": [
      "Training loss: 0.03812405467033386\n",
      "Validation loss: 0.05379618704319\n",
      "\n",
      "Epoch 6\n"
     ]
    },
    {
     "data": {
      "text/html": [
       "\n",
       "        <p>Loss: 1806.9781   60000 / 60000</p>\n",
       "        <progress value='60000' max='60000', style='width: 100%'>60000</progress>\n",
       "    "
      ],
      "text/plain": [
       "<IPython.core.display.HTML object>"
      ]
     },
     "metadata": {},
     "output_type": "display_data"
    },
    {
     "name": "stdout",
     "output_type": "stream",
     "text": [
      "Training loss: 0.030116302892565727\n",
      "Validation loss: 0.04971237853169441\n",
      "\n",
      "Epoch 7\n"
     ]
    },
    {
     "data": {
      "text/html": [
       "\n",
       "        <p>Loss: 1600.1348   60000 / 60000</p>\n",
       "        <progress value='60000' max='60000', style='width: 100%'>60000</progress>\n",
       "    "
      ],
      "text/plain": [
       "<IPython.core.display.HTML object>"
      ]
     },
     "metadata": {},
     "output_type": "display_data"
    },
    {
     "name": "stdout",
     "output_type": "stream",
     "text": [
      "Training loss: 0.026668913662433624\n",
      "Validation loss: 0.04498963803052902\n",
      "\n",
      "Epoch 8\n"
     ]
    },
    {
     "data": {
      "text/html": [
       "\n",
       "        <p>Loss: 1312.2322   60000 / 60000</p>\n",
       "        <progress value='60000' max='60000', style='width: 100%'>60000</progress>\n",
       "    "
      ],
      "text/plain": [
       "<IPython.core.display.HTML object>"
      ]
     },
     "metadata": {},
     "output_type": "display_data"
    },
    {
     "name": "stdout",
     "output_type": "stream",
     "text": [
      "Training loss: 0.021870536729693413\n",
      "Validation loss: 0.04764097183942795\n",
      "\n",
      "Epoch 9\n"
     ]
    },
    {
     "data": {
      "text/html": [
       "\n",
       "        <p>Loss: 1023.8242   60000 / 60000</p>\n",
       "        <progress value='60000' max='60000', style='width: 100%'>60000</progress>\n",
       "    "
      ],
      "text/plain": [
       "<IPython.core.display.HTML object>"
      ]
     },
     "metadata": {},
     "output_type": "display_data"
    },
    {
     "name": "stdout",
     "output_type": "stream",
     "text": [
      "Training loss: 0.01706373691558838\n",
      "Validation loss: 0.049009837210178375\n",
      "\n",
      "Epoch 10\n"
     ]
    },
    {
     "data": {
      "text/html": [
       "\n",
       "        <p>Loss: 1099.2731   60000 / 60000</p>\n",
       "        <progress value='60000' max='60000', style='width: 100%'>60000</progress>\n",
       "    "
      ],
      "text/plain": [
       "<IPython.core.display.HTML object>"
      ]
     },
     "metadata": {},
     "output_type": "display_data"
    },
    {
     "name": "stdout",
     "output_type": "stream",
     "text": [
      "Training loss: 0.018321217969059944\n",
      "Validation loss: 0.046532291918992996\n",
      "\n",
      "Epoch 11\n"
     ]
    },
    {
     "data": {
      "text/html": [
       "\n",
       "        <p>Loss: 851.8980   60000 / 60000</p>\n",
       "        <progress value='60000' max='60000', style='width: 100%'>60000</progress>\n",
       "    "
      ],
      "text/plain": [
       "<IPython.core.display.HTML object>"
      ]
     },
     "metadata": {},
     "output_type": "display_data"
    },
    {
     "name": "stdout",
     "output_type": "stream",
     "text": [
      "Training loss: 0.014198300428688526\n",
      "Validation loss: 0.043747592717409134\n",
      "\n",
      "Epoch 12\n"
     ]
    },
    {
     "data": {
      "text/html": [
       "\n",
       "        <p>Loss: 779.1508   60000 / 60000</p>\n",
       "        <progress value='60000' max='60000', style='width: 100%'>60000</progress>\n",
       "    "
      ],
      "text/plain": [
       "<IPython.core.display.HTML object>"
      ]
     },
     "metadata": {},
     "output_type": "display_data"
    },
    {
     "name": "stdout",
     "output_type": "stream",
     "text": [
      "Training loss: 0.012985846027731895\n",
      "Validation loss: 0.048601578921079636\n",
      "\n",
      "Epoch 13\n"
     ]
    },
    {
     "data": {
      "text/html": [
       "\n",
       "        <p>Loss: 675.0375   60000 / 60000</p>\n",
       "        <progress value='60000' max='60000', style='width: 100%'>60000</progress>\n",
       "    "
      ],
      "text/plain": [
       "<IPython.core.display.HTML object>"
      ]
     },
     "metadata": {},
     "output_type": "display_data"
    },
    {
     "name": "stdout",
     "output_type": "stream",
     "text": [
      "Training loss: 0.011250624433159828\n",
      "Validation loss: 0.04877966269850731\n",
      "\n",
      "Epoch 14\n"
     ]
    },
    {
     "data": {
      "text/html": [
       "\n",
       "        <p>Loss: 655.6910   60000 / 60000</p>\n",
       "        <progress value='60000' max='60000', style='width: 100%'>60000</progress>\n",
       "    "
      ],
      "text/plain": [
       "<IPython.core.display.HTML object>"
      ]
     },
     "metadata": {},
     "output_type": "display_data"
    },
    {
     "name": "stdout",
     "output_type": "stream",
     "text": [
      "Training loss: 0.010928183794021606\n",
      "Validation loss: 0.05842728167772293\n"
     ]
    }
   ],
   "source": [
    "\n",
    "#display bar for progress\n",
    "class progress_bar(object):\n",
    "\n",
    "    disp_style = \"\"\"\n",
    "        <p>Loss: {loss:0.4f}   {value} / {length}</p>\n",
    "        <progress value='{value}' max='{length}', style='width: 100%'>{value}</progress>\n",
    "    \"\"\"\n",
    "\n",
    "    def __init__(self, length):\n",
    "        self.length = length\n",
    "        self.count = 0\n",
    "        self.display = display(self.html(0, 0), display_id=True)\n",
    "\n",
    "    def html(self, count, loss):\n",
    "        return HTML(self.disp_style.format(length=self.length, value=count, loss=loss))\n",
    "\n",
    "    def update(self, count, loss):\n",
    "        self.count += count\n",
    "        self.display.update(self.html(self.count, loss))\n",
    "\n",
    "#displaying strucure\n",
    "#net = LeNet()\n",
    "#print(net)\n",
    "\n",
    "model = LeNet().to(device)\n",
    "criterion = nn.CrossEntropyLoss()\n",
    "optimizer = optim.Adam(model.parameters(), lr=learning_rate)\n",
    "\n",
    "\n",
    "def train_model(model, criterion, optimizer, no_epochs, dataloaders, dataset_size, starting_epoch=1):\n",
    "\n",
    "    plot_training_loss = []\n",
    "    plot_validation_loss = []\n",
    "\n",
    "    for epoch in range(starting_epoch, no_epochs):\n",
    "        print()\n",
    "        print('Epoch', epoch)\n",
    "        running_loss = 0.0\n",
    "        validation_loss = 0.0\n",
    "\n",
    "        # train phase\n",
    "        model.train()\n",
    "\n",
    "        # create a progress bar\n",
    "        progress = progress_bar(length=dataset_size[\"train\"])\n",
    "\n",
    "        for data in dataloaders[0]:\n",
    "            # Move the training data to the GPU\n",
    "            inputs, labels = data\n",
    "            batch_size = inputs.shape[0]\n",
    "\n",
    "            # clear previous gradient computation\n",
    "            optimizer.zero_grad()\n",
    "            output = model(inputs)\n",
    "            loss = criterion(output, labels)\n",
    "\n",
    "            loss.backward()\n",
    "            optimizer.step()\n",
    "\n",
    "            running_loss += loss.data * batch_size\n",
    "            # update progress bar\n",
    "            progress.update(batch_size, running_loss)\n",
    "\n",
    "        epoch_loss = running_loss / dataset_size[\"train\"]\n",
    "        print('Training loss:', epoch_loss.item())\n",
    "\n",
    "        plot_training_loss.append(epoch_loss)\n",
    "\n",
    "        # validation phase\n",
    "        model.eval()\n",
    "        with torch.no_grad():\n",
    "            for data in dataloaders[-1]:\n",
    "                inputs, labels = data\n",
    "                batch_size = inputs.shape[0]\n",
    "\n",
    "                output = model(inputs)\n",
    "\n",
    "                # calculate the loss\n",
    "                optimizer.zero_grad()\n",
    "                loss = criterion(output, labels)\n",
    "\n",
    "                # update running loss value\n",
    "                validation_loss += loss.data * batch_size\n",
    "\n",
    "        epoch_validation_loss = validation_loss / dataset_size[\"test\"]\n",
    "        print('Validation loss:', epoch_validation_loss.item())\n",
    "        plot_validation_loss.append(epoch_validation_loss)\n",
    "\n",
    "    return plot_training_loss, plot_validation_loss, model\n",
    "\n",
    "\n",
    "if __name__ == \"__main__\":\n",
    "    train_losses, validation_losses, model = train_model(model=model, criterion=criterion, optimizer=optimizer,\n",
    "                                                         no_epochs=15, dataloaders=[train_loader, test_loader],\n",
    "                                                         dataset_size=dataset_size)\n"
   ]
  },
  {
   "cell_type": "code",
   "execution_count": 6,
   "id": "44c6c7ce",
   "metadata": {},
   "outputs": [
    {
     "name": "stdout",
     "output_type": "stream",
     "text": [
      "Model Predicted 59678 correctly out of 60000 from training dataset, Acuracy : 99.46\n",
      "Model Predicted 9847 correctly out of 10000 from testing dataset, Acuracy : 98.47\n"
     ]
    }
   ],
   "source": [
    "# function for Accuracy\n",
    "def val(loader, model, train=True):\n",
    "    correct_samples = total_samples = 0\n",
    "    model.eval()\n",
    "    with torch.no_grad():\n",
    "        for data in loader:\n",
    "            inputs, labels = data\n",
    "            batch_size = inputs.shape[0]\n",
    "\n",
    "            output = model(inputs)\n",
    "            _, prediction = output.max(1)\n",
    "            correct_samples += (prediction == labels).sum()\n",
    "            total_samples += prediction.size(0)\n",
    "    val = (correct_samples.item()/total_samples)*100\n",
    "    if train:\n",
    "        print(\"Model Predicted {} correctly out of {} from training dataset, Acuracy : {:.2f}\".format(\n",
    "            correct_samples.item(), total_samples, val))\n",
    "    else:\n",
    "        print(\"Model Predicted {} correctly out of {} from testing dataset, Acuracy : {:.2f}\".format(\n",
    "            correct_samples.item(), total_samples, val))\n",
    "    model.train()\n",
    "\n",
    "\n",
    "val(train_loader, model)\n",
    "val(test_loader, model, train=False)\n"
   ]
  }
 ],
 "metadata": {
  "kernelspec": {
   "display_name": "Python 3.9.13 ('base')",
   "language": "python",
   "name": "python3"
  },
  "language_info": {
   "codemirror_mode": {
    "name": "ipython",
    "version": 3
   },
   "file_extension": ".py",
   "mimetype": "text/x-python",
   "name": "python",
   "nbconvert_exporter": "python",
   "pygments_lexer": "ipython3",
   "version": "3.9.13"
  },
  "vscode": {
   "interpreter": {
    "hash": "ad2bdc8ecc057115af97d19610ffacc2b4e99fae6737bb82f5d7fb13d2f2c186"
   }
  }
 },
 "nbformat": 4,
 "nbformat_minor": 5
}
